{
 "cells": [
  {
   "cell_type": "markdown",
   "metadata": {},
   "source": [
    "### Leia essa ducmentação para ver os argumentos e como funciona o predict\n",
    "\n",
    "https://docs.ultralytics.com/modes/predict/#inference-sources"
   ]
  },
  {
   "cell_type": "code",
   "execution_count": null,
   "metadata": {},
   "outputs": [],
   "source": [
    "import cv2\n",
    "from ultralytics import YOLO\n",
    "import cvzone\n",
    "import numpy as np\n",
    "\n",
    "video_path = \"video.mp4\"\n",
    "model = YOLO('best.pt')\n",
    "cap = cv2.VideoCapture(video_path)\n",
    "className = ['com capacete', 'sem capacete', 'sem colete', 'pessoa', 'com colete']\n",
    "myColor = (0,0,255)\n",
    "\n",
    "while True:\n",
    "    if cap.isOpened():\n",
    "        # Read a frame from the video\n",
    "        success, frame = cap.read()\n",
    "        if success:\n",
    "            results = model(frame, device=0, stream = True)\n",
    "            for r in results:\n",
    "                boxes = r.boxes\n",
    "                for box in boxes:\n",
    "                    x1,y1,x2,y2 = box.xyxy[0]\n",
    "                    x1,y1,x2,y2 =  int(x1), int(y1), int(x2), int(y2)\n",
    "                    conf = int (box.conf[0]*100)\n",
    "                    cls = int (box.cls[0])\n",
    "                    currentClass = className[cls]\n",
    "\n",
    "\n",
    "            annotated_frame = results[0].plot(masks=True, kpt_line=True, labels=True, boxes=True)\n",
    "\n",
    "            cv2.imshow('name',  frame)\n",
    "\n",
    "            if cv2.waitKey(1) & 0xFF == ord(\"q\"):\n",
    "                break\n",
    "        else:\n",
    "            break\n",
    "\n",
    "\n",
    "cap.release()\n",
    "cv2.destroyAllWindows()"
   ]
  },
  {
   "cell_type": "markdown",
   "metadata": {},
   "source": [
    "| Name          | Type          | Default   | Description                                           |\n",
    "|---------------|---------------|-----------|-------------------------------------------------------|\n",
    "| source        | str           | 'ultralytics/assets' | diretório de origem para imagens ou vídeos    |\n",
    "| conf          | float         | 0.25      | limite de confiança do objeto para detecção        |\n",
    "| iou           | float         | 0.7       | limite de interseção sobre união (IoU) para NMS   |\n",
    "| imgsz         | int ou tuple   | 640       | tamanho da imagem como escalar ou lista (h, w)  |\n",
    "| half          | bool          | False     | usar meia precisão (FP16)                           |\n",
    "| device        | None ou str    | None      | dispositivo para executar, ou seja, cuda device=0/1/2/3 ou device=cpu |\n",
    "| show          | bool          | False     | mostrar resultados, se possível                    |\n",
    "| save          | bool          | False     | salvar imagens com resultados                       |\n",
    "| save_txt      | bool          | False     | salvar resultados como arquivo .txt                |\n",
    "| save_conf     | bool          | False     | salvar resultados com pontuações de confiança     |\n",
    "| save_crop     | bool          | False     | salvar imagens recortadas com resultados           |\n",
    "| hide_labels   | bool          | False     | ocultar rótulos                                     |\n",
    "| hide_conf     | bool          | False     | ocultar pontuações de confiança                      |\n",
    "| max_det       | int           | 300       | número máximo de detecções por imagem              |\n",
    "| vid_stride    | bool          | False     | passo de taxa de quadros de vídeo                   |\n",
    "| stream_buffer | bool          | False     | buffer para todos os quadros de streaming (True) ou retornar o quadro mais recente (False) |\n",
    "| line_width    | None ou int   | None      | a largura da linha das caixas delimitadoras. Se None, é escalado para o tamanho da imagem. |\n",
    "| visualize     | bool          | False     | visualizar características do modelo                |\n",
    "| augment       | bool          | False     | aplicar aumento de imagem às fontes de previsão     |\n",
    "| agnostic_nms  | bool          | False     | NMS agnóstico de classe                             |\n",
    "| retina_masks  | bool          | False     | usar máscaras de segmentação de alta resolução     |\n",
    "| classes       | None ou lista | None      | filtrar resultados por classe, ou seja, classes=0, ou classes=[0,2,3] |\n",
    "| boxes         | bool          | True      | mostrar caixas nas previsões de segmentação         |\n"
   ]
  }
 ],
 "metadata": {
  "kernelspec": {
   "display_name": "yolov8-fN9nPXkm-py3.10",
   "language": "python",
   "name": "python3"
  },
  "language_info": {
   "codemirror_mode": {
    "name": "ipython",
    "version": 3
   },
   "file_extension": ".py",
   "mimetype": "text/x-python",
   "name": "python",
   "nbconvert_exporter": "python",
   "pygments_lexer": "ipython3",
   "version": "3.10.11"
  },
  "orig_nbformat": 4
 },
 "nbformat": 4,
 "nbformat_minor": 2
}
