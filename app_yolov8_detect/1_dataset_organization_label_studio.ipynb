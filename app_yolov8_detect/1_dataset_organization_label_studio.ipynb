{
 "cells": [
  {
   "cell_type": "markdown",
   "metadata": {},
   "source": [
    "#### Sepandando Dados e Anotações do dataset feito com o programa Label Studio\n",
    "\n",
    "Organiza dados que vieram da Label Studio com a função \"separar_dados_train_test_pasta_anotacao_labels_studio\", isso ira misturar os dados e separar em pastas train, val, test. No formato que o yolov8 necessita. Apois isso você tera que configura o arquivo (.yaml)"
   ]
  },
  {
   "cell_type": "markdown",
   "metadata": {},
   "source": [
    "### Depois crie o arquivo config.yaml nesse formato: \n",
    "\n",
    "O formato voce pode ver no arquivo config.yaml, depois de usar o arquivo datadet organization vc precisa mostrar nesse arquivo onde esta a pasta de treinamento, validação e teste siga o exemplo no projeto. (config_exemplo.yaml)\n",
    "\n"
   ]
  },
  {
   "cell_type": "code",
   "execution_count": 3,
   "metadata": {},
   "outputs": [
    {
     "name": "stdout",
     "output_type": "stream",
     "text": [
      "Número de dados em ./dataset_split\\train (train): 175\n",
      "Número de dados em ./dataset_split\\test (test): 58\n",
      "Número de dados em ./dataset_split\\val (val): 59\n"
     ]
    }
   ],
   "source": [
    "import os\n",
    "import random\n",
    "import shutil\n",
    "\n",
    "def separar_dados_train_test_pasta_anotacao_labels_studio(input_dir, output_dir, train_ratio, test_ratio, val_ratio, image_extension='.jpg', seed=None):\n",
    "    if seed is not None:\n",
    "        random.seed(seed)\n",
    "\n",
    "    # Certifique-se de que o diretório de saída exista\n",
    "    os.makedirs(output_dir, exist_ok=True)\n",
    "\n",
    "    # Listar todas as imagens no diretório de entrada com a extensão desejada\n",
    "    image_files = [f for f in os.listdir(os.path.join(input_dir, 'images')) if f.endswith(image_extension)]\n",
    "\n",
    "    # Embaralhar as imagens aleatoriamente\n",
    "    random.shuffle(image_files)\n",
    "\n",
    "    # Calcular o número de imagens para cada conjunto com base nas proporções\n",
    "    total_images = len(image_files)\n",
    "    num_train = int(total_images * train_ratio)\n",
    "    num_test = int(total_images * test_ratio)\n",
    "    num_val = total_images - num_train - num_test\n",
    "\n",
    "    # Criar as pastas train, test e val dentro do diretório de saída\n",
    "    for subset in ['train', 'test', 'val']:\n",
    "        subset_dir = os.path.join(output_dir, subset)\n",
    "        os.makedirs(subset_dir, exist_ok=True)\n",
    "        os.makedirs(os.path.join(subset_dir, 'images'), exist_ok=True)\n",
    "        os.makedirs(os.path.join(subset_dir, 'labels'), exist_ok=True)\n",
    "\n",
    "    # Mover as imagens para as pastas train, test e val dentro do diretório de saída\n",
    "    def move_images(image_list, output_dir):\n",
    "        for image_file in image_list:\n",
    "            image_path = os.path.join(input_dir, 'images', image_file)\n",
    "            shutil.copy(image_path, os.path.join(output_dir, 'images', image_file))\n",
    "            annotation_file = os.path.splitext(image_file)[0] + '.txt'\n",
    "            annotation_path = os.path.join(input_dir, 'labels', annotation_file)\n",
    "            if os.path.exists(annotation_path):\n",
    "                shutil.copy(annotation_path, os.path.join(output_dir, 'labels', annotation_file))\n",
    "\n",
    "    move_images(image_files[:num_train], os.path.join(output_dir, 'train'))\n",
    "    move_images(image_files[num_train:num_train + num_test], os.path.join(output_dir, 'test'))\n",
    "    move_images(image_files[num_train + num_test:], os.path.join(output_dir, 'val'))\n",
    "\n",
    "    # Imprimir o número de dados em cada pasta\n",
    "    print(f\"Número de dados em {os.path.join(output_dir, 'train')} (train): {num_train}\")\n",
    "    print(f\"Número de dados em {os.path.join(output_dir, 'test')} (test): {num_test}\")\n",
    "    print(f\"Número de dados em {os.path.join(output_dir, 'val')} (val): {num_val}\")\n",
    "\n",
    "\n",
    "\n",
    "\n",
    "\n",
    "# Exemplo de uso\n",
    "separar_dados_train_test_pasta_anotacao_labels_studio(\n",
    "    \"./dataset_label\",\n",
    "    output_dir=\"./dataset_split\",\n",
    "    train_ratio=0.6,\n",
    "    test_ratio=0.2,\n",
    "    val_ratio=0.2,\n",
    "    image_extension='.jpg',  # Defina a extensão desejada aqui\n",
    "    seed=42\n",
    ")\n",
    "\n",
    "\n",
    "\n"
   ]
  }
 ],
 "metadata": {
  "kernelspec": {
   "display_name": "Python 3",
   "language": "python",
   "name": "python3"
  },
  "language_info": {
   "codemirror_mode": {
    "name": "ipython",
    "version": 3
   },
   "file_extension": ".py",
   "mimetype": "text/x-python",
   "name": "python",
   "nbconvert_exporter": "python",
   "pygments_lexer": "ipython3",
   "version": "3.11.5"
  },
  "orig_nbformat": 4
 },
 "nbformat": 4,
 "nbformat_minor": 2
}
