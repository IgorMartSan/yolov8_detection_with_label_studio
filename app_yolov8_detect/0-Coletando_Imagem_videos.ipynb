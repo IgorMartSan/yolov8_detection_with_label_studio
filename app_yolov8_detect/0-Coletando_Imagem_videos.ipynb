{
 "cells": [
  {
   "cell_type": "markdown",
   "metadata": {},
   "source": [
    "#### Coletando imagens de video\n",
    "\n",
    "\n",
    "\n",
    "Processa todos vídeos na pasta especificada e extrai quadros em intervalos especificados,\n",
    "salvando-os como imagens na pasta de imagens.\n",
    "\n",
    "Parâmetros:\n",
    "- pasta_de_videos (str): O caminho para a pasta contendo os arquivos de vídeo a serem processados.\n",
    "- pasta_de_imagens (str): O caminho para a pasta onde as imagens processadas serão salvas.\n",
    "- intervalo_de_quadros (int): O intervalo entre os quadros a serem extraídos (padrão é 30).\n",
    "\n",
    "Notas:\n",
    "- A função processará todos os arquivos .mp4 na pasta de vídeos.\n",
    "- Cada vídeo será convertido em uma série de imagens em intervalos especificados.\n",
    "- As imagens resultantes terão nomes baseados no timestamp.\n",
    "- Será criada uma pasta separada para cada vídeo na pasta de imagens.\n",
    "\n",
    "Exemplo de uso:\n",
    "processar_videos_em_pasta('/caminho/para/videos', '/caminho/para/imagens', intervalo_de_quadros=15)\n"
   ]
  },
  {
   "cell_type": "code",
   "execution_count": 2,
   "metadata": {},
   "outputs": [],
   "source": [
    "\n",
    "from utils.utils import DatasetMaker\n",
    "\n",
    "pasta_de_videos = \"./1_Dataset_videos\"\n",
    "\n",
    "#crie essa pasta se ela nao existir\n",
    "pasta_de_imagens = \"./imagens_para_treino\"\n",
    "intervalo_de_quadros = 60  # Se for 30 frames por segundo vai pegar uma imagem por segundo entao 2 min de video terá 120 imagens \n",
    "DatasetMaker.processar_videos_em_pasta(pasta_de_videos = pasta_de_videos, pasta_de_imagens = pasta_de_imagens, intervalo_de_quadros = 45)\n"
   ]
  }
 ],
 "metadata": {
  "kernelspec": {
   "display_name": "Python 3",
   "language": "python",
   "name": "python3"
  },
  "language_info": {
   "codemirror_mode": {
    "name": "ipython",
    "version": 3
   },
   "file_extension": ".py",
   "mimetype": "text/x-python",
   "name": "python",
   "nbconvert_exporter": "python",
   "pygments_lexer": "ipython3",
   "version": "3.11.5"
  },
  "orig_nbformat": 4
 },
 "nbformat": 4,
 "nbformat_minor": 2
}
